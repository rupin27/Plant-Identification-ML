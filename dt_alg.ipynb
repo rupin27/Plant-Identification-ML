{
 "cells": [
  {
   "cell_type": "code",
   "execution_count": 1049,
   "metadata": {},
   "outputs": [],
   "source": [
    "import pandas as pd\n",
    "import numpy as np\n",
    "import math\n",
    "import sklearn.model_selection\n",
    "import matplotlib.pyplot as plt"
   ]
  },
  {
   "cell_type": "code",
   "execution_count": 1050,
   "metadata": {},
   "outputs": [],
   "source": [
    "#Load the house votes data file using python csv module\n",
    "data = pd.read_csv('house_votes_84.csv')\n",
    "dataCols = data.columns.tolist()\n",
    "\n",
    "# houseVotesData: List to hold the iris data    \n",
    "houseVotesData = data.to_numpy().astype(int)"
   ]
  },
  {
   "cell_type": "code",
   "execution_count": 1051,
   "metadata": {},
   "outputs": [],
   "source": [
    "# Split the data into training and testing sets\n",
    "# data: file data; ranNum: ensures reproducibilty; trainDt: resulting data set for training; testDt: resulting data set for testing \n",
    "def split_test_train(data, ranumber):\n",
    "    # the training set will contain 80% of the data, the testing set will contain 20% of the data\n",
    "    trainDt, testDt = sklearn.model_selection.train_test_split(data, train_size = 0.8, test_size = 0.2, shuffle = True, random_state = ranumber)\n",
    "    return trainDt.T, testDt.T"
   ]
  },
  {
   "cell_type": "code",
   "execution_count": 1052,
   "metadata": {},
   "outputs": [],
   "source": [
    "# Descision Tree Class\n",
    "class descisionTree:\n",
    "    # used to store the label for the node\n",
    "    label = None\n",
    "    # used to store the type of node, such as a decision node/leaf node\n",
    "    nodeType = \"\"\n",
    "    # used to store the majority event label if the node is a leaf node\n",
    "    majEvent = -1\n",
    "    # used to store the name of the feature being tested\n",
    "    testClass = \"\"\n",
    "    # used to store a dictionary of child nodes\n",
    "    nodeEdges = {}\n",
    "\n",
    "    # intial instance \n",
    "    def __init__(self, label, nodeType):\n",
    "        self.label = label\n",
    "        self.nodeType = nodeType"
   ]
  },
  {
   "cell_type": "code",
   "execution_count": 1053,
   "metadata": {},
   "outputs": [],
   "source": [
    "###############################################################################################################################################\n",
    "\n",
    "# Descision Tree Helper Functions\n",
    "\n",
    "# Takes a column of data as input and returns the entropy of the column\n",
    "# column: the column of data being analyzed\n",
    "def entropy(column):\n",
    "    # initialize a dictionary to count the occurrences of each value in the input column\n",
    "    cnts = {}\n",
    "    for val in column:\n",
    "        cnts[val] = cnts.get(val, 0) + 1\n",
    "    # calculate entropy\n",
    "    entropy = sum(-c / len(column) * math.log2(c / len(column)) for c in cnts.values())\n",
    "    return entropy\n",
    "\n",
    "# Calculates the Gini index of a given column using the formula\n",
    "# column: the column of data being analyzed\n",
    "def gini(column):\n",
    "    # initialize a dictionary to count the occurrences of each value in the input column\n",
    "    cnts = {}\n",
    "    for val in column:\n",
    "        cnts[val] = cnts.get(val, 0) + 1\n",
    "    tCnt = len(column)\n",
    "    # compute the gini impurity value\n",
    "    giniIndexVal = 1 - sum((count / tCnt) ** 2 for count in cnts.values())\n",
    "    return giniIndexVal\n",
    "\n",
    "###############################################################################################################################################\n",
    "\n",
    "# Testing criterias\n",
    "\n",
    "# Calculates information gain (ID3)\n",
    "# dataAttr: 2D array that represents the data, row contains data and column contains the attribute to the data instance; colAttr: names of columns in dataArr\n",
    "def id3(dataAttr, colAttr):\n",
    "    # entropy of the target variable\n",
    "    trgtVar = dataAttr[-1]\n",
    "    initEntropy = entropy(trgtVar)\n",
    "    # variables for finding the best attribute\n",
    "    minEntropy = float('inf')\n",
    "    finalAtr = None\n",
    "    # iterate over all attributes except the target variable\n",
    "    for i, attr in enumerate(colAttr[:-1]):\n",
    "        # extract unique values of the attribute\n",
    "        attrVals = np.unique(dataAttr[i])\n",
    "        # split the data based on the attribute\n",
    "        attrData = [trgtVar[dataAttr[i] == value] for value in attrVals]\n",
    "        # calculate entropy of the split data\n",
    "        attrDataEntropy = sum(len(subset) / len(trgtVar) * entropy(subset) for subset in attrData)\n",
    "        # update the best attribute if the split entropy is smaller\n",
    "        if attrDataEntropy < minEntropy:\n",
    "            minEntropy = attrDataEntropy\n",
    "            finalAtr = attr\n",
    "    # return the best attribute and the information gain\n",
    "    infoGain = initEntropy - minEntropy\n",
    "    return finalAtr, infoGain\n",
    "\n",
    "# Calculates Split Gini Index (CART)\n",
    "# dataAttr: 2D array that represents the data, row contains data and column contains the attribute to the data instance; colAttr: names of columns in dataArr\n",
    "def cart(dataAttr, colAttr):\n",
    "    # variables for finding the best attribute\n",
    "    minGini = float('inf')\n",
    "    finalAttr = None\n",
    "    \n",
    "    # iterate over all attributes except the target variable\n",
    "    for attribute in colAttr[:-1]:\n",
    "        # extract unique values of the attribute\n",
    "        attrVals = set(dataAttr[colAttr.index(attribute)])\n",
    "        giniVar = 0\n",
    "        # split the data based on the attribute\n",
    "        for value in attrVals:\n",
    "            value_indices = [i for i in range(len(dataAttr[0])) if dataAttr[colAttr.index(attribute)][i] == value]\n",
    "            value_labels = [dataAttr[-1][i] for i in value_indices]\n",
    "            giniVar += len(value_labels) / len(dataAttr[-1]) * gini(value_labels)\n",
    "        # update the best attribute if the split gini index is smaller\n",
    "        if giniVar < minGini:\n",
    "            minGini = giniVar\n",
    "            finalAttr = attribute\n",
    "    # return the best attribute and the gini index\n",
    "    return finalAttr, minGini\n",
    "\n",
    "# function returns the attribute to split the data and the corresponding metric value\n",
    "# data: list containing data set; collAttr: list containing column attributes; algor: string indicating algorithm being used\n",
    "def algorSplitAttr(data, colAttr, algor):\n",
    "    return id3(data, colAttr) if algor == \"id3\" else cart(data, colAttr)\n",
    "    \n",
    "###############################################################################################################################################"
   ]
  },
  {
   "cell_type": "code",
   "execution_count": 1054,
   "metadata": {},
   "outputs": [],
   "source": [
    "\n",
    "# Decision Tree  \n",
    "     \n",
    "def decisiontree(data, colAttr, algor):\n",
    "    # initialize decision tree node\n",
    "    node = descisionTree(label = -1, nodeType = \"decision\")\n",
    "    # the value that occurs most frequently in that column\n",
    "    vals, cnts = np.unique(data[-1], return_counts = True)\n",
    "    # find the index of the most frequently occurring value in the counts array\n",
    "    valIndex = np.argmax(cnts)\n",
    "    # the value in the vals array at the same index as the most frequent value in the cnts array\n",
    "    inpVals = vals[valIndex]\n",
    "\n",
    "    node.majEvent = inpVals\n",
    "    # check if all labels in data are same\n",
    "    if len(set(data[-1])) == 1:\n",
    "        # if true, create leaf node with the label\n",
    "        node.nodeType, node.label = \"leaf\", data[-1][0]\n",
    "        return node\n",
    "    # check if there are no more attributes to split on\n",
    "    elif not colAttr:\n",
    "        # if true, create leaf node with majority event as label\n",
    "        node.nodeType, node.label = \"leaf\", node.majEvent\n",
    "        return node\n",
    "\n",
    "    # find best attribute to split on using specified algorithm\n",
    "    bestAttr = algorSplitAttr(data, colAttr, algor)[0]\n",
    "    # set test class and index of best attribute\n",
    "    node.testClass, bestAttrIdx = bestAttr, colAttr.index(bestAttr)\n",
    "    # new list of attributes without best attribute\n",
    "    colAttrSamp = colAttr[:bestAttrIdx] + colAttr[bestAttrIdx + 1:]\n",
    "\n",
    "    # construct edges for the current node\n",
    "    edge = {}\n",
    "    for nVal in set(data[bestAttrIdx]):\n",
    "        index = [idx for idx, e in enumerate(data[bestAttrIdx]) if e == nVal]\n",
    "        # create subset of data for each value of best attribute\n",
    "        subdata = np.delete(data.T[index].T, bestAttrIdx, axis=0)\n",
    "        # check if subset is empty\n",
    "        if subdata.size == 0:\n",
    "            # if true, reate leaf node with majority event as label\n",
    "            node.nodeType, node.label = \"leaf\", inpVals\n",
    "            return node\n",
    "        # recursively create subtree for subset\n",
    "        subtree = decisiontree(subdata, colAttrSamp, algor)\n",
    "        # add subtree to edge\n",
    "        edge[nVal] = subtree\n",
    "    # set edges of current node\n",
    "    node.nodeEdges = edge\n",
    "    \n",
    "    return node"
   ]
  },
  {
   "cell_type": "code",
   "execution_count": 1055,
   "metadata": {},
   "outputs": [],
   "source": [
    "# Prediction \n",
    "\n",
    "# returns a tuple that contains a boolean value indicating whether the prediction was correct or not, the predicted value, and the actual value\n",
    "# tree: decision tree; instance: instance of data as input\n",
    "def prediction(tree: descisionTree, instance):\n",
    "    # initialize the predicted value to the majority event of the current node.\n",
    "    predict = tree.majEvent\n",
    "    # get the correct value from the last element of the instance.\n",
    "    correct = instance[-1]\n",
    "    # if the current node is a leaf node, return the predicted value and whether it matches the correct value.\n",
    "    if tree.nodeType == 'leaf':\n",
    "        predict = tree.label\n",
    "        return predict == correct, predict, correct\n",
    "    # if not, get the index of the test class for the current node.\n",
    "    testindex = dataCols.index(tree.testClass)\n",
    "    # check jf the value of the test class for the instance is not in the edges of the current node, return the predicted value and whether it matches the correct value.\n",
    "    if instance[testindex] not in tree.nodeEdges:\n",
    "        return predict == correct, predict, correct\n",
    "    # Recursively call the function with the next tree node and the same instance of data.\n",
    "    return prediction(tree.nodeEdges[instance[testindex]], instance)\n",
    "\n",
    "# calculates the accuracy of a decision tree model on a given dataset\n",
    "# data: string indicating whether to use train or test data; algorithm: string indicating the decision tree algorithm to use; ranNum: integer used for generating random splits\n",
    "def accuracy(data, algorithm, ranNum):\n",
    "    # calculate accuracy of a decision tree model on a given dataset\n",
    "    def accuracyHelper(data, tree):\n",
    "        return sum(prediction(tree, ins)[0] for ins in data.T) / len(data.T)\n",
    "        \n",
    "    accVals = []\n",
    "    for i in range(1, 101):\n",
    "        # split the data into training and test sets using a random seed\n",
    "        housetrain, housetest = split_test_train(houseVotesData, 589 + ranNum * i)\n",
    "        traintree = decisiontree(housetrain, dataCols, algorithm)\n",
    "        # calculate the accuracy of the model on the specified data\n",
    "        oc = accuracyHelper(housetrain, traintree) if data == 'train' else accuracyHelper(housetest, traintree) if data == 'test' else None\n",
    "        accVals.append(oc)\n",
    "    return accVals"
   ]
  },
  {
   "cell_type": "code",
   "execution_count": 1056,
   "metadata": {},
   "outputs": [
    {
     "name": "stdout",
     "output_type": "stream",
     "text": [
      "The mean accuracy is 1.0, and the std is 0.0\n"
     ]
    },
    {
     "data": {
      "image/png": "[encoded data removed]",
      "text/plain": [
       "<Figure size 432x288 with 1 Axes>"
      ]
     },
     "metadata": {
      "needs_background": "light"
     },
     "output_type": "display_data"
    }
   ],
   "source": [
    "# Q2.1 In the first histogram, you should show the accuracy distribution when the algorithm is evaluated over training data.\n",
    "plotTrainID3 = np.array(accuracy('train', 'id3', 197))\n",
    "# print(plotTrainID3)\n",
    "print(f'The mean accuracy is {plotTrainID3.mean()}, and the std is {plotTrainID3.std()}')\n",
    "plt.hist(plotTrainID3, density=1, bins=100, color='blue', alpha=0.5)\n",
    "plt.axis([0.5, 1.1, 0, 120])\n",
    "plt.title(\"Decision Tree using ID3 Algorithm On Training Data\")\n",
    "plt.ylabel(\"Accuracy Frequency\")\n",
    "plt.xlabel(\"Accuracy\")\n",
    "plt.show()"
   ]
  },
  {
   "cell_type": "code",
   "execution_count": 1057,
   "metadata": {},
   "outputs": [
    {
     "name": "stdout",
     "output_type": "stream",
     "text": [
      "The mean accuracy is 0.9383908045977009, and the std is 0.023863796362962722\n"
     ]
    },
    {
     "data": {
      "image/png": "[encoded data removed]",
      "text/plain": [
       "<Figure size 432x288 with 1 Axes>"
      ]
     },
     "metadata": {
      "needs_background": "light"
     },
     "output_type": "display_data"
    }
   ],
   "source": [
    "# Q2.2 In the second histogram, you should show the accuracy distribution when the algorithm is evaluated over testing data.\n",
    "plotTestID3 = np.array(accuracy('test', 'id3', 197))\n",
    "# print(plotTestID3)\n",
    "print(f'The mean accuracy is {plotTestID3.mean()}, and the std is {plotTestID3.std()}')\n",
    "plt.hist(plotTestID3, density=1, bins=15, color='blue', alpha=0.5)\n",
    "plt.axis([0.65, 1.1, 0, 30])\n",
    "plt.title(\"Decision Tree using With ID3 Algorithm On Testing Data\")\n",
    "plt.ylabel(\"Accuracy Frequency\")\n",
    "plt.xlabel(\"Accuracy\")\n",
    "plt.show()"
   ]
  },
  {
   "cell_type": "code",
   "execution_count": 1058,
   "metadata": {},
   "outputs": [
    {
     "name": "stdout",
     "output_type": "stream",
     "text": [
      "[1. 1. 1. 1. 1. 1. 1. 1. 1. 1. 1. 1. 1. 1. 1. 1. 1. 1. 1. 1. 1. 1. 1. 1.\n",
      " 1. 1. 1. 1. 1. 1. 1. 1. 1. 1. 1. 1. 1. 1. 1. 1. 1. 1. 1. 1. 1. 1. 1. 1.\n",
      " 1. 1. 1. 1. 1. 1. 1. 1. 1. 1. 1. 1. 1. 1. 1. 1. 1. 1. 1. 1. 1. 1. 1. 1.\n",
      " 1. 1. 1. 1. 1. 1. 1. 1. 1. 1. 1. 1. 1. 1. 1. 1. 1. 1. 1. 1. 1. 1. 1. 1.\n",
      " 1. 1. 1. 1.]\n",
      "The mean accuracy is 1.0, and the std is 0.0\n"
     ]
    },
    {
     "data": {
      "image/png": "[encoded data removed]",
      "text/plain": [
       "<Figure size 432x288 with 1 Axes>"
      ]
     },
     "metadata": {
      "needs_background": "light"
     },
     "output_type": "display_data"
    }
   ],
   "source": [
    "# QE.1 Repeat the experiments Q2.1 to Q2.4, but now use the Gini criterion for node splitting, instead of the Information Gain criterion.\n",
    "\n",
    "plotTrainGini = np.array(accuracy('train', 'cart', 197))\n",
    "# print(plotTrainGini)\n",
    "print(f'The mean accuracy is {plotTrainGini.mean()}, and the std is {plotTrainGini.std()}')\n",
    "plt.hist(plotTrainGini, density=1, bins=100, color='blue', alpha=0.5)\n",
    "plt.title(\"Decision Tree using Training Data With Gini Algorithm\")\n",
    "plt.axis([0.5, 1.1, 0, 120])\n",
    "plt.ylabel(\"Accuracy Frequency\")\n",
    "plt.xlabel(\"Accuracy\")\n",
    "plt.show()"
   ]
  },
  {
   "cell_type": "code",
   "execution_count": 1059,
   "metadata": {},
   "outputs": [
    {
     "name": "stdout",
     "output_type": "stream",
     "text": [
      "[0.96551724 0.94252874 0.95402299 0.94252874 0.94252874 0.96551724\n",
      " 0.95402299 0.94252874 0.91954023 0.94252874 0.93103448 0.94252874\n",
      " 0.94252874 0.93103448 0.97701149 0.96551724 0.96551724 0.93103448\n",
      " 0.94252874 0.93103448 0.97701149 0.97701149 0.91954023 0.90804598\n",
      " 0.98850575 0.97701149 0.95402299 0.90804598 0.91954023 0.96551724\n",
      " 0.94252874 0.93103448 0.95402299 0.96551724 0.96551724 0.94252874\n",
      " 0.94252874 0.88505747 0.94252874 0.90804598 0.95402299 0.91954023\n",
      " 0.88505747 0.94252874 0.88505747 0.91954023 0.93103448 0.89655172\n",
      " 0.94252874 0.93103448 0.95402299 0.90804598 0.95402299 0.91954023\n",
      " 0.94252874 0.91954023 0.91954023 0.95402299 0.90804598 0.90804598\n",
      " 0.93103448 0.88505747 0.86206897 0.95402299 0.89655172 0.95402299\n",
      " 0.94252874 0.95402299 0.96551724 0.93103448 0.93103448 0.91954023\n",
      " 0.94252874 0.95402299 0.96551724 0.96551724 0.95402299 0.94252874\n",
      " 0.96551724 0.95402299 0.95402299 0.95402299 0.97701149 0.95402299\n",
      " 0.94252874 0.94252874 0.95402299 0.93103448 0.93103448 0.95402299\n",
      " 0.94252874 0.93103448 0.90804598 0.91954023 0.93103448 0.93103448\n",
      " 0.94252874 0.94252874 0.96551724 0.95402299]\n",
      "The mean accuracy is 0.939310344827586, and the std is 0.02356069512702337\n"
     ]
    },
    {
     "data": {
      "image/png": "[encoded data removed]",
      "text/plain": [
       "<Figure size 432x288 with 1 Axes>"
      ]
     },
     "metadata": {
      "needs_background": "light"
     },
     "output_type": "display_data"
    }
   ],
   "source": [
    "# QE.1 Repeat the experiments Q2.1 to Q2.4, but now use the Gini criterion for node splitting, instead of the Information Gain criterion.\n",
    "plotTestGini = np.array(accuracy('test', 'cart', 197))\n",
    "# print(plotTestGini)\n",
    "print(f'The mean accuracy is {plotTestGini.mean()}, and the std is {plotTestGini.std()}')\n",
    "plt.hist(plotTestGini, density=1, bins=15, color='blue', alpha=0.5)\n",
    "plt.axis([0.65, 1.1, 0, 30])\n",
    "plt.title(\"Decision Tree using Testing Data With Gini Algorithm\")\n",
    "plt.ylabel(\"Accuracy Frequency\")\n",
    "plt.xlabel(\"Accuracy\")\n",
    "plt.show()"
   ]
  }
 ],
 "metadata": {
  "kernelspec": {
   "display_name": "Python 3",
   "language": "python",
   "name": "python3"
  },
  "language_info": {
   "codemirror_mode": {
    "name": "ipython",
    "version": 3
   },
   "file_extension": ".py",
   "mimetype": "text/x-python",
   "name": "python",
   "nbconvert_exporter": "python",
   "pygments_lexer": "ipython3",
   "version": "3.10.1"
  },
  "orig_nbformat": 4,
  "vscode": {
   "interpreter": {
    "hash": "aee8b7b246df8f9039afb4144a1f6fd8d2ca17a180786b69acc140d282b71a49"
   }
  }
 },
 "nbformat": 4,
 "nbformat_minor": 2
}
