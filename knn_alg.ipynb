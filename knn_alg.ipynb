{
 "cells": [
  {
   "cell_type": "code",
   "execution_count": 396,
   "metadata": {},
   "outputs": [],
   "source": [
    "import numpy as np\n",
    "import matplotlib.pyplot as plt\n",
    "from operator import itemgetter"
   ]
  },
  {
   "cell_type": "code",
   "execution_count": 397,
   "metadata": {},
   "outputs": [],
   "source": [
    "#Load the Iris data file using python csv module\n",
    "data = open('iris.csv')\n",
    "dataReader = csv.reader(data)\n",
    "\n",
    "# irisData: List to hold the iris data\n",
    "irisData = []\n",
    "for row in dataReader:\n",
    "    irisData.append([float(row[0]), float(row[1]), float(row[2]), float(row[3]), row[4]])"
   ]
  },
  {
   "cell_type": "code",
   "execution_count": 398,
   "metadata": {},
   "outputs": [],
   "source": [
    "# Split the data into training and testing sets\n",
    "# The training set will contain 80% of the data, the testing set will contain 20% of the data\n",
    "# data: file data; ranNum: ensures reproducibilty; trainKnn: resulting data set for training; testKnn: resulting data set for testing \n",
    "def split(data, ranNum):\n",
    "    trainKnn, testKnn = sklearn.model_selection.train_test_split(data, train_size = 0.8, test_size = 0.2, shuffle = True, random_state = ranNum)\n",
    "    return trainKnn, testKnn"
   ]
  },
  {
   "cell_type": "code",
   "execution_count": 399,
   "metadata": {},
   "outputs": [],
   "source": [
    "###############################################################################################################################################\n",
    "\n",
    "# Normalization Helper Functions\n",
    "\n",
    "# Normalize a column of data using the maximum and minimum values\n",
    "# col: column to be normalized; maxVal: maximum value in the column; minVal: minimum value in the column, resArr: resulting normalized array\n",
    "def normalizationMaxMin(col, maxVal, minVal):\n",
    "    # iterate through the list and normalize each value\n",
    "    resArr = [(val - minVal) / (maxVal - minVal) for val in col] \n",
    "    return resArr\n",
    "\n",
    "# Normalize a column of data\n",
    "# col: column to be normalized; resArr: resulting normalized array\n",
    "def normalization(col):\n",
    "    minVal = min(col)\n",
    "    maxVal = max(col)\n",
    "    # iterate through the list and normalize each value\n",
    "    resArr = [(val - minVal) / (maxVal - minVal) for val in col]\n",
    "    return resArr, minVal, maxVal\n",
    "\n",
    "# Normalize the training and testing datasets using the maximum and minimum values\n",
    "# trainData: training dataset; testData: the testing dataset\n",
    "def normalizedDataset(trainData, testData):\n",
    "    trainKnnNorm = []\n",
    "    testKnnNorm = []\n",
    "    i = 0\n",
    "    # Loop through each column in the training dataset\n",
    "    for col in trainData:\n",
    "        trainArr = []\n",
    "        testArr = []\n",
    "        # Check if the current column is a feature column (i.e. columns 0-3)\n",
    "        if i < 4:\n",
    "            trainArr, trainMin, trainMax = normalization(col)\n",
    "            # Normalize the testing data for the current column using the minimum and maximum values from the training data\n",
    "            testArr = normalizationMaxMin(testData[i], trainMax, trainMin)\n",
    "            trainKnnNorm.append(trainArr)\n",
    "            testKnnNorm.append(testArr)\n",
    "            i += 1\n",
    "    # Append the unnormalized labels (i.e. the species column) to the normalized training and testing datasets\n",
    "    trainKnnNorm.append(trainData[4])\n",
    "    testKnnNorm.append(testData[4])\n",
    "    return trainKnnNorm, testKnnNorm\n",
    "\n",
    "# Transpose a 2D array\n",
    "# arr: array to be transposed\n",
    "def transpose(arr):\n",
    "    return [list(row) for row in zip(*arr)]\n",
    "\n",
    "###############################################################################################################################################\n",
    "\n",
    "# Normalize the training and testing datasets\n",
    "# trainData: the training dataset; testData: the testing dataset\n",
    "def normflow(trainData, testData):\n",
    "    # transpose the training and testing datasets\n",
    "    ttrainData = transpose(trainData)\n",
    "    ttestData = transpose(testData)\n",
    "    # normalize the transposed data\n",
    "    normttrainData, normttestData = normalizedDataset(ttrainData, ttestData)\n",
    "    # transpose the normalized training and testing datasets back to their original format\n",
    "    resNormTrain, resNormTest = transpose(normttrainData), transpose(normttestData)\n",
    "    return resNormTrain, resNormTest"
   ]
  },
  {
   "cell_type": "code",
   "execution_count": 400,
   "metadata": {},
   "outputs": [],
   "source": [
    "# Euclidean distance\n",
    "# Compute the elcudidean distance between two arrays\n",
    "def euclideanDist(arr1, arr2):\n",
    "    arr1 = np.array(arr1)\n",
    "    arr2 = np.array(arr2)\n",
    "    dist = np.linalg.norm(arr1 - arr2)\n",
    "    return dist\n",
    "\n",
    "# Computethe Euclidean distance between a test data point and all the training data points\n",
    "# testDataPt: test data point; trainDataPt: a list of training data points\n",
    "def distanceCalc(testDataPt, trainDataPts):\n",
    "    # feature values of the test data point\n",
    "    pt1 = testDataPt[:-1]\n",
    "    # calculate the Euclidean distance between the test data point and all the training data points\n",
    "    distArr = [(euclideanDist(pt1, elem[:-1]), elem[-1]) for elem in trainDataPts]\n",
    "    # return distances in ascending order\n",
    "    return sorted(distArr, key=itemgetter(0))\n",
    "\n",
    "###############################################################################################################################################\n",
    "#KNN Helper Functions\n",
    "\n",
    "# k-nearest neighbours algorithm\n",
    "# k: number of nearest neighbours being considered; trainData: training data set; testData: testing data set\n",
    "def knn(k, trainData, testData):\n",
    "    predictedLables = []\n",
    "    # extract the true labels for test data and store them in a separate list\n",
    "    correctLables = [col[-1] for col in testData]\n",
    "    for datpt in testData:\n",
    "        distlist = distanceCalc(datpt, trainData)\n",
    "        # extract the labels of the k nearest neighbours\n",
    "        catlist = [col[1] for col in distlist[:k]]\n",
    "        # predict the label of the test data point based on the majority label of k nearest neighbours\n",
    "        predictedLables.append(max(set(catlist), key=catlist.count))\n",
    "    return predictedLables, correctLables\n",
    "\n",
    "# accuracy of the predicted labels generated by the knn function above\n",
    "# predicted: predicted labels for test data points; correct: correct labels for test data points\n",
    "def accuracy(predicted, correct):\n",
    "    total = len(predicted)\n",
    "    # count the number of correct predictions\n",
    "    correctLables = sum(1 for i in range(total) if predicted[i] == correct[i])\n",
    "    return correctLables / total\n",
    "\n",
    "###############################################################################################################################################\n",
    "\n",
    "# performs k-fold cross-validation to test the accuracy of the knn() function using a given value of k on the training dataset.\n",
    "# k = number of neighbours; randNum: number used to split dataset; data: iris data\n",
    "def accuracyTrainData(k, randNum, data):\n",
    "    # split the dataset\n",
    "    trainknn, testknn = split(data, randNum)\n",
    "    #normalize the dataset (comment out for Q1.6 to test on unnormalized data)\n",
    "    # normedtrain, normedtest = normflow(trainknn, testknn)\n",
    "    normedtrain, normedtest = trainknn, testknn\n",
    "    # predict labels for the training set using the knn function with k nearest neighbors\n",
    "    predictedLables, correctLables = knn(k, normedtrain, normedtrain)\n",
    "    calcAccuracy = accuracy(predictedLables, correctLables)\n",
    "    return calcAccuracy\n",
    "\n",
    "# performs k-fold cross-validation to test the accuracy of the knn() function using a given value of k on the testing dataset.\n",
    "# k = number of neighbours; randNum: number used to split dataset; data: iris data\n",
    "def accuracyTestData(k, randNum, data):\n",
    "    # split the dataset\n",
    "    trainknn, testknn = split(data, randNum)\n",
    "    #normalize the dataset (comment out for Q1.6 to test on unnormalized data)\n",
    "    # normedtrain, normedtest = normflow(trainknn, testknn)\n",
    "    normedtrain, normedtest = trainknn, testknn\n",
    "    # predict labels for the testing set using the knn function with k nearest neighbors\n",
    "    predictedLables, correctLables = knn(k, normedtrain, normedtest)\n",
    "    calcAccuracy = accuracy(predictedLables, correctLables)\n",
    "    return calcAccuracy"
   ]
  },
  {
   "cell_type": "code",
   "execution_count": 401,
   "metadata": {},
   "outputs": [],
   "source": [
    "# performs statistical analysis on the accuracy of the knn() function using a range of k values on a dataset\n",
    "#  data: iris data set\n",
    "def statAnalysisAccTrain(data):\n",
    "    k = 1\n",
    "    # list to store the results for each k value\n",
    "    caclKVals = []\n",
    "    while k <= 51:\n",
    "        randNum = 12100\n",
    "        # empty list to store the accuracy results for each random seed\n",
    "        calcAccVals = []\n",
    "        while randNum < 12200:\n",
    "            # calculate the accuracy of the knn function using k-fold cross-validation with a given k value and random seed value\n",
    "            calcAccVals.append(accuracyTrainData(k, randNum, data))\n",
    "            # for each value of k, run the process 20 times.\n",
    "            randNum += 5\n",
    "        caclKVals.append(calcAccVals)\n",
    "        # varying k from 1 to 51, using only odd numbers\n",
    "        k+=2\n",
    "    \n",
    "    return np.array(caclKVals)\n",
    "\n",
    "# performs statistical analysis on the accuracy of the knn() function using a range of k values on a dataset\n",
    "#  data: iris data set\n",
    "def statAnalysisAccTest(data):\n",
    "    k = 1\n",
    "    # list to store the results for each k value\n",
    "    caclKVals = []\n",
    "    while k <= 51:\n",
    "        randNum = 12100\n",
    "        # empty list to store the accuracy results for each random seed\n",
    "        calcAccVals = []\n",
    "        while randNum < 12200:\n",
    "            # calculate the accuracy of the knn function using k-fold cross-validation with a given k value and random seed value\n",
    "            calcAccVals.append(accuracyTestData(k, randNum, data))\n",
    "            # for each value of k, run the process 20 times.\n",
    "            randNum += 5 \n",
    "        # append the accuracy results for the current k value to the result list\n",
    "        caclKVals.append(calcAccVals)\n",
    "        # varying k from 1 to 51, using only odd numbers\n",
    "        k += 2\n",
    "    return np.array(caclKVals)"
   ]
  },
  {
   "cell_type": "code",
   "execution_count": 402,
   "metadata": {},
   "outputs": [],
   "source": [
    "# NumPy array k that contains odd integer values from 1 to 51 \n",
    "k = np.arange(1,52,2)\n",
    "\n",
    "#RESULTS\n",
    "kValsTrain = statAnalysisAccTrain(irisData)\n",
    "kValsTest = statAnalysisAccTest(irisData)\n",
    "\n",
    "#Accuracy for training dataset\n",
    "accValsTrain = kValsTrain.mean(axis=1)\n",
    "# print(\"KNN accuracy for training set\")\n",
    "# print(accValsTrain)\n",
    "\n",
    "#Accuracy for testing dataset\n",
    "accValsTest = kValsTest.mean(axis=1)\n",
    "# print(\"KNN accuracy for testing set\")\n",
    "# print(accValsTest)\n",
    "\n",
    "# Std deviation for training\n",
    "stdValsTrain = kValsTrain.std(axis = 1)\n",
    "# print(\"KNN standard deviation for training\")\n",
    "# print(stdValsTrain)\n",
    "\n",
    "stdValsTest = kValsTest.std(axis = 1)\n",
    "# print(\"KNN standard deviation for training\")\n",
    "# print(stdValsTest)"
   ]
  },
  {
   "cell_type": "code",
   "execution_count": 403,
   "metadata": {},
   "outputs": [
    {
     "data": {
      "image/png": "[encoded data removed]",
      "text/plain": [
       "<Figure size 432x288 with 1 Axes>"
      ]
     },
     "metadata": {
      "needs_background": "light"
     },
     "output_type": "display_data"
    }
   ],
   "source": [
    "# Q1.1\n",
    "plt.errorbar(k, accValsTrain, yerr = stdValsTrain, fmt = \"-o\", color = 'green', alpha = 0.5)\n",
    "plt.title(\"KNN On Training Data\")\n",
    "plt.xlabel(\"K value\")\n",
    "plt.ylabel(\"Accuracy\")\n",
    "plt.show()"
   ]
  },
  {
   "cell_type": "code",
   "execution_count": 404,
   "metadata": {},
   "outputs": [
    {
     "data": {
      "image/png": "[encoded data removed]",
      "text/plain": [
       "<Figure size 432x288 with 1 Axes>"
      ]
     },
     "metadata": {
      "needs_background": "light"
     },
     "output_type": "display_data"
    }
   ],
   "source": [
    "# Q1.2\n",
    "plt.errorbar(k, accValsTest, yerr = stdValsTest, fmt = \"-o\", color = 'red', alpha = 0.5)\n",
    "plt.title(\"KNN using Testing Data\")\n",
    "plt.xlabel(\"K value\")\n",
    "plt.ylabel(\"Accuracy\")\n",
    "plt.show()"
   ]
  },
  {
   "cell_type": "code",
   "execution_count": 405,
   "metadata": {},
   "outputs": [
    {
     "data": {
      "image/png": "[encoded data removed]",
      "text/plain": [
       "<Figure size 432x288 with 1 Axes>"
      ]
     },
     "metadata": {
      "needs_background": "light"
     },
     "output_type": "display_data"
    }
   ],
   "source": [
    "plt.errorbar(k, accValsTrain, yerr = stdValsTrain, fmt = \"-o\", color = 'green', alpha = 0.5, label= \"Train\")\n",
    "plt.errorbar(k, accValsTest, yerr = stdValsTest, fmt = \"-o\", color = 'red', alpha = 0.5, label= \"Test\")\n",
    "plt.legend()\n",
    "plt.title(\"KNN on Testing vs. Training Data\")\n",
    "plt.xlabel(\"K value\")\n",
    "plt.ylabel(\"Accuracy\")\n",
    "plt.show()"
   ]
  },
  {
   "cell_type": "code",
   "execution_count": 406,
   "metadata": {},
   "outputs": [],
   "source": [
    "# WITH NORMALIZATION:\n",
    "\n",
    "# KNN accuracy for training set\n",
    "# [1.         0.96791667 0.9675     0.97458333 0.97208333 0.9725\n",
    "#  0.97375    0.9725     0.97083333 0.96541667 0.96416667 0.96125\n",
    "#  0.96083333 0.96083333 0.96125    0.95708333 0.95458333 0.94625\n",
    "#  0.94208333 0.93541667 0.93       0.9225     0.915      0.91\n",
    "#  0.9075     0.90583333]\n",
    "\n",
    "# KNN accuracy for testing set\n",
    "# [0.94333333 0.94166667 0.955      0.94666667 0.94833333 0.95166667\n",
    "#  0.955      0.95666667 0.95666667 0.95166667 0.94833333 0.95333333\n",
    "#  0.94666667 0.945      0.94333333 0.94166667 0.94166667 0.94\n",
    "#  0.93666667 0.93166667 0.91833333 0.91166667 0.90833333 0.9\n",
    "#  0.89833333 0.89      ]\n",
    "\n",
    "# KNN standard deviation for training\n",
    "# [0.         0.00605243 0.00829156 0.01036655 0.00660124 0.0083749\n",
    "#  0.00844714 0.01057381 0.00931695 0.01029934 0.00794949 0.00844714\n",
    "#  0.00650854 0.00595119 0.00844714 0.00844714 0.00767165 0.01002601\n",
    "#  0.00892679 0.01114145 0.01452966 0.01493039 0.0163724  0.01982563\n",
    "#  0.02122957 0.01808545]\n",
    " \n",
    "# KNN standard deviation for training\n",
    "# [0.03511885 0.02327373 0.02420973 0.0244949  0.02682246 0.02466441\n",
    "#  0.02420973 0.01855921 0.02603417 0.03244654 0.03068659 0.0305505\n",
    "#  0.03231787 0.03032234 0.03       0.03312434 0.03476109 0.03741657\n",
    "#  0.04068852 0.04530759 0.04884784 0.05403188 0.05361903 0.0505525\n",
    "#  0.05320297 0.05487359]\n",
    "\n",
    "# WITHOUT NORMALIZATION:\n",
    "\n",
    "# KNN accuracy for training set\n",
    "# [1.         0.96916667 0.975      0.97791667 0.97875    0.97875\n",
    "#  0.97833333 0.97625    0.97458333 0.97333333 0.96875    0.96458333\n",
    "#  0.96083333 0.95583333 0.95416667 0.95291667 0.95458333 0.9525\n",
    "#  0.94958333 0.94416667 0.94291667 0.93791667 0.93375    0.92708333\n",
    "#  0.9225     0.92291667]\n",
    "# KNN accuracy for testing set\n",
    "# [0.94833333 0.95333333 0.95333333 0.955      0.96166667 0.96333333\n",
    "#  0.96       0.96333333 0.96666667 0.95166667 0.95166667 0.94833333\n",
    "#  0.95       0.94666667 0.94666667 0.94833333 0.94333333 0.93666667\n",
    "#  0.93333333 0.93       0.93       0.92833333 0.925      0.92333333\n",
    "#  0.91666667 0.91166667]\n",
    "# KNN standard deviation for training\n",
    "# [0.         0.01024017 0.00833333 0.0071078  0.00670562 0.00767165\n",
    "#  0.00964653 0.00660124 0.00967349 0.01073675 0.00981602 0.01232517\n",
    "#  0.01293681 0.01181454 0.00931695 0.00960143 0.00852895 0.0115169\n",
    "#  0.01192424 0.0115169  0.01243734 0.01501735 0.01221196 0.01464274\n",
    "#  0.01538849 0.01823363]\n",
    "# KNN standard deviation for training\n",
    "# [0.02682246 0.02211083 0.02666667 0.03032234 0.03032234 0.02081666\n",
    "#  0.02708013 0.0314466  0.02981424 0.03244654 0.02881936 0.03068659\n",
    "#  0.03248931 0.03231787 0.02867442 0.03244654 0.03349959 0.03785939\n",
    "#  0.03944053 0.04203173 0.03636237 0.03840573 0.04579544 0.04725816\n",
    "#  0.04533824 0.04627814]"
   ]
  }
 ],
 "metadata": {
  "kernelspec": {
   "display_name": "Python 3",
   "language": "python",
   "name": "python3"
  },
  "language_info": {
   "codemirror_mode": {
    "name": "ipython",
    "version": 3
   },
   "file_extension": ".py",
   "mimetype": "text/x-python",
   "name": "python",
   "nbconvert_exporter": "python",
   "pygments_lexer": "ipython3",
   "version": "3.10.1"
  },
  "orig_nbformat": 4,
  "vscode": {
   "interpreter": {
    "hash": "aee8b7b246df8f9039afb4144a1f6fd8d2ca17a180786b69acc140d282b71a49"
   }
  }
 },
 "nbformat": 4,
 "nbformat_minor": 2
}
